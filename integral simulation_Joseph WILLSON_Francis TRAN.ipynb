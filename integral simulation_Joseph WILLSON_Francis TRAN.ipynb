{
 "cells": [
  {
   "cell_type": "markdown",
   "id": "b7a588a2",
   "metadata": {},
   "source": [
    "# Simulation by computing the integral below"
   ]
  },
  {
   "cell_type": "code",
   "execution_count": 5,
   "id": "0a0ed304",
   "metadata": {},
   "outputs": [
    {
     "name": "stdout",
     "output_type": "stream",
     "text": [
      "L'intégrale de f(x) entre -10 et 10 pour n = 1 est 0.0\n",
      "L'intégrale de f(x) entre -10 et 10 pour n = 10 est 11.37\n",
      "L'intégrale de f(x) entre -10 et 10 pour n = 50 est 16.22\n",
      "L'intégrale de f(x) entre -10 et 10 pour n = 100 est 16.32\n",
      "L'intégrale de f(x) entre -10 et 10 pour n = 500 est 16.35\n",
      "L'intégrale de f(x) entre -10 et 10 pour n = 1000 est 16.35\n"
     ]
    }
   ],
   "source": [
    "import math\n",
    "import numpy as np\n",
    "\n",
    "def f(x):\n",
    "    sig = 0.2\n",
    "    T = 10\n",
    "    r = 0.02\n",
    "    S = 50\n",
    "    K = 50\n",
    "    F = 50*math.exp(r*T)\n",
    "    \n",
    "    return max(F * math.exp((sig * math.sqrt(T) * x) - ((1/2) * sig**2 * T)) - K,0) * (math.exp((-x**2)/2)/math.sqrt(math.pi*2))*np.exp(-r*T)\n",
    "\n",
    "\n",
    "\n",
    "#a = -np.inf  \n",
    "#b = np.inf\n",
    "\n",
    "a = -10\n",
    "b = 10\n",
    "\n",
    "n = [1,10,50,100,500,1000] \n",
    "\n",
    "l = []\n",
    "\n",
    "for i in range(len(n)):\n",
    "    dx = (b-a)/n[i]  \n",
    "    x = a\n",
    "\n",
    "    aire = 0\n",
    "\n",
    "    for j in range(n[i]):\n",
    "        aire += f(x)*dx\n",
    "        x += dx\n",
    "        \n",
    "    l.append(aire)\n",
    "    \n",
    "    print(\"L'intégrale de f(x) entre\", a, \"et\", b, \"pour n =\", n[i] ,\"est\", round(aire,2))"
   ]
  },
  {
   "cell_type": "markdown",
   "id": "af426130",
   "metadata": {},
   "source": [
    "### As we can see, above, we obtain as a result : 16,35 for the pricing of the call option. We simulate the same process for different n which the number of scenarios."
   ]
  },
  {
   "cell_type": "code",
   "execution_count": 6,
   "id": "2cc2e699",
   "metadata": {},
   "outputs": [
    {
     "data": {
      "image/png": "[encoded data removed]",
      "text/plain": [
       "<Figure size 640x480 with 1 Axes>"
      ]
     },
     "metadata": {},
     "output_type": "display_data"
    }
   ],
   "source": [
    "import matplotlib.pyplot as plt\n",
    "\n",
    "plt.plot(l)\n",
    "plt.show()\n"
   ]
  },
  {
   "cell_type": "markdown",
   "id": "9d4a6b9d",
   "metadata": {},
   "source": [
    "### Above we have the trend of those different scenario and we can see that the trend seems to move towards 16,35 as the binomial tree process"
   ]
  },
  {
   "cell_type": "code",
   "execution_count": 10,
   "id": "ac96afda",
   "metadata": {},
   "outputs": [
    {
     "name": "stdout",
     "output_type": "stream",
     "text": [
      "L'intégrale de f(x) entre -10 et 10 pour n = 1 est 0.0\n",
      "L'intégrale de f(x) entre -10 et 10 pour n = 10 est 3.89\n",
      "L'intégrale de f(x) entre -10 et 10 pour n = 50 est 8.74\n",
      "L'intégrale de f(x) entre -10 et 10 pour n = 100 est 8.86\n",
      "L'intégrale de f(x) entre -10 et 10 pour n = 500 est 8.9\n",
      "L'intégrale de f(x) entre -10 et 10 pour n = 1000 est 8.9\n"
     ]
    }
   ],
   "source": [
    "def f1(x):\n",
    "    sig = 0.2\n",
    "    T = 10\n",
    "    r = 0.02\n",
    "    S = 50\n",
    "    K = 50\n",
    "    F = 50*math.exp(r*T)\n",
    "    \n",
    "    return max(K-(F * math.exp((sig * math.sqrt(T) * x) - ((1/2) * sig**2 * T))),0) * (math.exp((-x**2)/2)/math.sqrt(math.pi*2))\n",
    "\n",
    "\n",
    "\n",
    "#a = -np.inf  \n",
    "#b = np.inf\n",
    "\n",
    "a = -10\n",
    "b = 10\n",
    "\n",
    "n = [1,10,50,100,500,1000] \n",
    "\n",
    "l1 = []\n",
    "\n",
    "for i in range(len(n)):\n",
    "    dx = (b-a)/n[i]  \n",
    "    x = a\n",
    "\n",
    "    aire = 0\n",
    "\n",
    "    for j in range(n[i]):\n",
    "        aire += f1(x)*dx\n",
    "        x += dx\n",
    "        \n",
    "    l1.append(aire)\n",
    "    \n",
    "    print(\"L'intégrale de f(x) entre\", a, \"et\", b, \"pour n =\", n[i] ,\"est\", round(aire,2))"
   ]
  },
  {
   "cell_type": "markdown",
   "id": "974b9a4e",
   "metadata": {},
   "source": [
    "### we follow the same process for the put option, just we change the formula in the function above for the payoff of the put option"
   ]
  },
  {
   "cell_type": "code",
   "execution_count": 11,
   "id": "02c9ce77",
   "metadata": {},
   "outputs": [
    {
     "data": {
      "image/png": "[encoded data removed]",
      "text/plain": [
       "<Figure size 640x480 with 1 Axes>"
      ]
     },
     "metadata": {},
     "output_type": "display_data"
    }
   ],
   "source": [
    "import matplotlib.pyplot as plt\n",
    "\n",
    "plt.plot(l1)\n",
    "plt.show()"
   ]
  },
  {
   "cell_type": "markdown",
   "id": "b98e61d5",
   "metadata": {},
   "source": [
    "### Above we have the trend of those different scenario and we can see that the trend seems to move towards 8,9 as the binomial tree process"
   ]
  },
  {
   "cell_type": "code",
   "execution_count": null,
   "id": "b2213426",
   "metadata": {},
   "outputs": [],
   "source": []
  }
 ],
 "metadata": {
  "kernelspec": {
   "display_name": "Python 3 (ipykernel)",
   "language": "python",
   "name": "python3"
  },
  "language_info": {
   "codemirror_mode": {
    "name": "ipython",
    "version": 3
   },
   "file_extension": ".py",
   "mimetype": "text/x-python",
   "name": "python",
   "nbconvert_exporter": "python",
   "pygments_lexer": "ipython3",
   "version": "3.9.13"
  }
 },
 "nbformat": 4,
 "nbformat_minor": 5
}
